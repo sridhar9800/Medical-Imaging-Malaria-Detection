{
 "cells": [
  {
   "cell_type": "code",
   "execution_count": 3,
   "metadata": {},
   "outputs": [],
   "source": [
    "import os\n",
    " \n",
    "# initialize the path to the *original* input directory of images\n",
    "ORIG_INPUT_DATASET = \"malaria/cell_images\"\n",
    " \n",
    "# initialize the base path to the *new* directory that will contain\n",
    "# our images after computing the training and testing split\n",
    "BASE_PATH = \"malaria\"\n",
    " \n",
    "# derive the training, validation, and testing directories\n",
    "TRAIN_PATH = os.path.sep.join([BASE_PATH, \"training\"])\n",
    "VAL_PATH = os.path.sep.join([BASE_PATH, \"validation\"])\n",
    "TEST_PATH = os.path.sep.join([BASE_PATH, \"testing\"])\n",
    " \n",
    "# define the amount of data that will be used training\n",
    "TRAIN_SPLIT = 0.8\n",
    " \n",
    "# the amount of validation data will be a percentage of the\n",
    "# *training* data\n",
    "VAL_SPLIT = 0.1"
   ]
  },
  {
   "cell_type": "code",
   "execution_count": 4,
   "metadata": {},
   "outputs": [],
   "source": [
    "from pyimagesearch import config\n",
    "from imutils import paths\n",
    "import random\n",
    "import shutil\n",
    "import os\n",
    " \n",
    "# grab the paths to all input images in the original input directory\n",
    "# and shuffle them\n",
    "imagePaths = list(paths.list_images(config.ORIG_INPUT_DATASET))\n",
    "random.seed(42)\n",
    "random.shuffle(imagePaths)"
   ]
  },
  {
   "cell_type": "code",
   "execution_count": 5,
   "metadata": {},
   "outputs": [],
   "source": [
    "# compute the training and testing split\n",
    "i = int(len(imagePaths) * config.TRAIN_SPLIT)\n",
    "trainPaths = imagePaths[:i]\n",
    "testPaths = imagePaths[i:]\n",
    " \n",
    "# we'll be using part of the training data for validation\n",
    "i = int(len(trainPaths) * config.VAL_SPLIT)\n",
    "valPaths = trainPaths[:i]\n",
    "trainPaths = trainPaths[i:]"
   ]
  },
  {
   "cell_type": "code",
   "execution_count": 6,
   "metadata": {},
   "outputs": [],
   "source": [
    "datasets = [\n",
    "\t(\"training\", trainPaths, config.TRAIN_PATH),\n",
    "\t(\"validation\", valPaths, config.VAL_PATH),\n",
    "\t(\"testing\", testPaths, config.TEST_PATH)\n",
    "]"
   ]
  },
  {
   "cell_type": "code",
   "execution_count": 7,
   "metadata": {},
   "outputs": [
    {
     "name": "stdout",
     "output_type": "stream",
     "text": [
      "[INFO] building 'training' split\n",
      "[INFO] building 'validation' split\n",
      "[INFO] building 'testing' split\n"
     ]
    }
   ],
   "source": [
    "for (dType, imagePaths, baseOutput) in datasets:\n",
    "\t# show which data split we are creating\n",
    "\tprint(\"[INFO] building '{}' split\".format(dType))\n",
    " \n",
    "\t# if the output base output directory does not exist, create it\n",
    "\tif not os.path.exists(baseOutput):\n",
    "\t\tprint(\"[INFO] 'creating {}' directory\".format(baseOutput))\n",
    "\t\tos.makedirs(baseOutput)\n",
    " \n",
    "\t# loop over the input image paths\n",
    "\tfor inputPath in imagePaths:\n",
    "\t\t# extract the filename of the input image along with its\n",
    "\t\t# corresponding class label\n",
    "\t\tfilename = inputPath.split(os.path.sep)[-1]\n",
    "\t\tlabel = inputPath.split(os.path.sep)[-2]\n",
    " \n",
    "\t\t# build the path to the label directory\n",
    "\t\tlabelPath = os.path.sep.join([baseOutput, label])\n",
    " \n",
    "\t\t# if the label output directory does not exist, create it\n",
    "\t\tif not os.path.exists(labelPath):\n",
    "\t\t\tprint(\"[INFO] 'creating {}' directory\".format(labelPath))\n",
    "\t\t\tos.makedirs(labelPath)\n",
    " \n",
    "\t\t# construct the path to the destination image and then copy\n",
    "\t\t# the image itself\n",
    "\t\tp = os.path.sep.join([labelPath, filename])\n",
    "\t\tshutil.copy2(inputPath, p)"
   ]
  },
  {
   "cell_type": "code",
   "execution_count": 8,
   "metadata": {},
   "outputs": [
    {
     "name": "stdout",
     "output_type": "stream",
     "text": [
      "_________________________________________________________________\n",
      "Layer (type)                 Output Shape              Param #   \n",
      "=================================================================\n",
      "input_1 (InputLayer)         (None, 64, 64, 3)         0         \n",
      "_________________________________________________________________\n",
      "block1_conv1 (Conv2D)        (None, 64, 64, 64)        1792      \n",
      "_________________________________________________________________\n",
      "block1_conv2 (Conv2D)        (None, 64, 64, 64)        36928     \n",
      "_________________________________________________________________\n",
      "block1_pool (MaxPooling2D)   (None, 32, 32, 64)        0         \n",
      "_________________________________________________________________\n",
      "block2_conv1 (Conv2D)        (None, 32, 32, 128)       73856     \n",
      "_________________________________________________________________\n",
      "block2_conv2 (Conv2D)        (None, 32, 32, 128)       147584    \n",
      "_________________________________________________________________\n",
      "block2_pool (MaxPooling2D)   (None, 16, 16, 128)       0         \n",
      "_________________________________________________________________\n",
      "block3_conv1 (Conv2D)        (None, 16, 16, 256)       295168    \n",
      "_________________________________________________________________\n",
      "block3_conv2 (Conv2D)        (None, 16, 16, 256)       590080    \n",
      "_________________________________________________________________\n",
      "block3_conv3 (Conv2D)        (None, 16, 16, 256)       590080    \n",
      "_________________________________________________________________\n",
      "block3_pool (MaxPooling2D)   (None, 8, 8, 256)         0         \n",
      "_________________________________________________________________\n",
      "block4_conv1 (Conv2D)        (None, 8, 8, 512)         1180160   \n",
      "_________________________________________________________________\n",
      "block4_conv2 (Conv2D)        (None, 8, 8, 512)         2359808   \n",
      "_________________________________________________________________\n",
      "block4_conv3 (Conv2D)        (None, 8, 8, 512)         2359808   \n",
      "_________________________________________________________________\n",
      "block4_pool (MaxPooling2D)   (None, 4, 4, 512)         0         \n",
      "_________________________________________________________________\n",
      "block5_conv1 (Conv2D)        (None, 4, 4, 512)         2359808   \n",
      "_________________________________________________________________\n",
      "block5_conv2 (Conv2D)        (None, 4, 4, 512)         2359808   \n",
      "_________________________________________________________________\n",
      "block5_conv3 (Conv2D)        (None, 4, 4, 512)         2359808   \n",
      "_________________________________________________________________\n",
      "block5_pool (MaxPooling2D)   (None, 2, 2, 512)         0         \n",
      "=================================================================\n",
      "Total params: 14,714,688\n",
      "Trainable params: 14,714,688\n",
      "Non-trainable params: 0\n",
      "_________________________________________________________________\n"
     ]
    }
   ],
   "source": [
    "from keras.applications import VGG16\n",
    "\n",
    "conv_base = VGG16(weights = \"imagenet\",\n",
    "include_top = False, input_shape =(64,64,3))\n",
    "conv_base.summary()"
   ]
  },
  {
   "cell_type": "code",
   "execution_count": 9,
   "metadata": {},
   "outputs": [],
   "source": [
    "import numpy as np\n",
    "from keras.preprocessing.image import ImageDataGenerator\n",
    "datagen = ImageDataGenerator(rescale=1 / 255.0)"
   ]
  },
  {
   "cell_type": "code",
   "execution_count": 10,
   "metadata": {},
   "outputs": [],
   "source": [
    "datagen = ImageDataGenerator(rescale=1./255,\n",
    "                            shear_range = 0.2,\n",
    "                            zoom_range=0.2,\n",
    "                            horizontal_flip=True)\n",
    "batch_size = 4\n",
    "\n",
    "\n",
    "def extract_features(directory, sample_count):\n",
    "    features = np.zeros(shape=(sample_count, 2, 2, 512))\n",
    "    labels = np.zeros(shape=(sample_count))\n",
    "    generator = datagen.flow_from_directory(\n",
    "        directory,\n",
    "        class_mode=\"binary\",\n",
    "        target_size=(64, 64),\n",
    "        batch_size=batch_size,\n",
    "        color_mode=\"rgb\")\n",
    "    \n",
    "    i = 0\n",
    "    for inputs_batch, labels_batch in generator:\n",
    "\n",
    "\n",
    "        #print(labels_batch)\n",
    "        features_batch = conv_base.predict(inputs_batch)\n",
    "        #print(features_batch)\n",
    "        features[i * batch_size: (i+1) * batch_size] = features_batch\n",
    "        labels[i * batch_size: (i+1) * batch_size] = labels_batch\n",
    "        i += 1\n",
    "        #print(i)\n",
    "        if ((i * batch_size % 1000) == 0 ):\n",
    "            print(\"processed size =\", i * batch_size)\n",
    "        if i * batch_size >= sample_count:\n",
    "            break\n",
    "\n",
    "    return features, labels  "
   ]
  },
  {
   "cell_type": "code",
   "execution_count": 24,
   "metadata": {},
   "outputs": [
    {
     "name": "stdout",
     "output_type": "stream",
     "text": [
      "Found 2204 images belonging to 2 classes.\n",
      "processed size = 1000\n",
      "processed size = 2000\n"
     ]
    }
   ],
   "source": [
    "# Extract validation features\n",
    "nVal = 2204\n",
    "val_features, val_labels = extract_features(config.VAL_PATH, nVal)"
   ]
  },
  {
   "cell_type": "code",
   "execution_count": 26,
   "metadata": {},
   "outputs": [],
   "source": [
    "np.save('validation_features', val_features)\n",
    "np.save('validation_labels', val_labels)"
   ]
  },
  {
   "cell_type": "code",
   "execution_count": 29,
   "metadata": {},
   "outputs": [
    {
     "name": "stdout",
     "output_type": "stream",
     "text": [
      "Found 5512 images belonging to 2 classes.\n",
      "processed size = 1000\n",
      "processed size = 2000\n",
      "processed size = 3000\n",
      "processed size = 4000\n",
      "processed size = 5000\n"
     ]
    }
   ],
   "source": [
    "# Extract test features\n",
    "nTest = 5512\n",
    "test_features, test_labels = extract_features(config.TEST_PATH, nTest)"
   ]
  },
  {
   "cell_type": "code",
   "execution_count": 30,
   "metadata": {},
   "outputs": [],
   "source": [
    "np.save('test_features', test_features)\n",
    "np.save('test_labels', test_labels)"
   ]
  },
  {
   "cell_type": "code",
   "execution_count": 21,
   "metadata": {},
   "outputs": [
    {
     "name": "stdout",
     "output_type": "stream",
     "text": [
      "Found 19842 images belonging to 2 classes.\n",
      "processed size = 1000\n",
      "processed size = 2000\n",
      "processed size = 3000\n",
      "processed size = 4000\n",
      "processed size = 5000\n",
      "processed size = 6000\n",
      "processed size = 7000\n",
      "processed size = 8000\n",
      "processed size = 9000\n",
      "processed size = 10000\n",
      "processed size = 11000\n",
      "processed size = 12000\n",
      "processed size = 13000\n",
      "processed size = 14000\n",
      "processed size = 15000\n",
      "processed size = 16000\n",
      "processed size = 17000\n",
      "processed size = 18000\n",
      "processed size = 19000\n"
     ]
    }
   ],
   "source": [
    "# Extract train features\n",
    "nTrain = 19842\n",
    "train_features, train_labels = extract_features(config.TRAIN_PATH, nTrain)"
   ]
  },
  {
   "cell_type": "code",
   "execution_count": 22,
   "metadata": {},
   "outputs": [],
   "source": [
    "np.save('train_features', train_features)\n",
    "np.save('train_labels', train_labels)"
   ]
  },
  {
   "cell_type": "markdown",
   "metadata": {},
   "source": [
    "# Load the features"
   ]
  },
  {
   "cell_type": "code",
   "execution_count": 11,
   "metadata": {},
   "outputs": [],
   "source": [
    "train_features = np.load('train_features.npy')\n",
    "test_features = np.load('test_features.npy')\n",
    "validation_features = np.load('validation_features.npy')"
   ]
  },
  {
   "cell_type": "code",
   "execution_count": 12,
   "metadata": {},
   "outputs": [],
   "source": [
    "train_labels = np.load('train_labels.npy')\n",
    "test_labels = np.load('test_labels.npy')\n",
    "validation_labels = np.load('validation_labels.npy')"
   ]
  },
  {
   "cell_type": "code",
   "execution_count": 14,
   "metadata": {},
   "outputs": [],
   "source": [
    "nVal = 2204\n",
    "nTrain = 19842\n",
    "nTest = 5512"
   ]
  },
  {
   "cell_type": "code",
   "execution_count": 15,
   "metadata": {},
   "outputs": [],
   "source": [
    "train_features = np.reshape(train_features, (nTrain, 2 * 2 * 512))\n",
    "test_features = np.reshape(test_features, (nTest, 2 * 2 * 512))\n",
    "validation_features = np.reshape(validation_features, (nVal, 2 * 2 * 512))"
   ]
  },
  {
   "cell_type": "code",
   "execution_count": 16,
   "metadata": {},
   "outputs": [
    {
     "name": "stdout",
     "output_type": "stream",
     "text": [
      "[INFO] building 'training' split\n",
      "[INFO] building 'validation' split\n",
      "[INFO] building 'testing' split\n"
     ]
    }
   ],
   "source": [
    "# loop over the datasets\n",
    "for (dType, imagePaths, baseOutput) in datasets:\n",
    "    # show which data split we are creating\n",
    "    print(\"[INFO] building '{}' split\".format(dType))\n",
    " \n",
    "    # if the output base output directory does not exist, create it\n",
    "    if not os.path.exists(baseOutput):\n",
    "        print(\"[INFO] 'creating {}' directory\".format(baseOutput))\n",
    "        os.makedirs(baseOutput)\n",
    " \n",
    "# loop over the input image paths\n",
    "    for inputPath in imagePaths:\n",
    "        # extract the filename of the input image along with its\n",
    "        # corresponding class label\n",
    "        filename = inputPath.split(os.path.sep)[-1]\n",
    "        label = inputPath.split(os.path.sep)[-2]\n",
    " \n",
    "        # build the path to the label directory\n",
    "        labelPath = os.path.sep.join([baseOutput, label])\n",
    " \n",
    "        # if the label output directory does not exist, create it\n",
    "        if not os.path.exists(labelPath):\n",
    "            print(\"[INFO] 'creating {}' directory\".format(labelPath))\n",
    "            os.makedirs(labelPath)\n",
    " \n",
    "        # construct the path to the destination image and then copy\n",
    "        # the image itself\n",
    "        p = os.path.sep.join([labelPath, filename])\n",
    "        shutil.copy2(inputPath, p)\n"
   ]
  },
  {
   "cell_type": "code",
   "execution_count": 120,
   "metadata": {},
   "outputs": [
    {
     "name": "stderr",
     "output_type": "stream",
     "text": [
      "Exception ignored in: <bound method BaseSession._Callable.__del__ of <tensorflow.python.client.session.BaseSession._Callable object at 0x18344db630>>\n",
      "Traceback (most recent call last):\n",
      "  File \"/Users/prashant/anaconda3/lib/python3.6/site-packages/tensorflow/python/client/session.py\", line 1455, in __del__\n",
      "    self._session._session, self._handle, status)\n",
      "  File \"/Users/prashant/anaconda3/lib/python3.6/site-packages/tensorflow/python/framework/errors_impl.py\", line 528, in __exit__\n",
      "    c_api.TF_GetCode(self.status.status))\n",
      "tensorflow.python.framework.errors_impl.InvalidArgumentError: No such callable handle: 140702518384672\n"
     ]
    },
    {
     "name": "stdout",
     "output_type": "stream",
     "text": [
      "Train on 19842 samples, validate on 2204 samples\n",
      "Epoch 1/30\n",
      "19842/19842 [==============================] - 26s 1ms/step - loss: 0.3701 - acc: 0.8330 - val_loss: 0.2843 - val_acc: 0.8789\n",
      "Epoch 2/30\n",
      "19842/19842 [==============================] - 21s 1ms/step - loss: 0.2637 - acc: 0.8922 - val_loss: 0.2582 - val_acc: 0.8902\n",
      "Epoch 3/30\n",
      "19842/19842 [==============================] - 22s 1ms/step - loss: 0.2394 - acc: 0.9037 - val_loss: 0.2455 - val_acc: 0.8970\n",
      "Epoch 4/30\n",
      "19842/19842 [==============================] - 21s 1ms/step - loss: 0.2281 - acc: 0.9098 - val_loss: 0.2376 - val_acc: 0.9015\n",
      "Epoch 5/30\n",
      "19842/19842 [==============================] - 21s 1ms/step - loss: 0.2192 - acc: 0.9164 - val_loss: 0.2347 - val_acc: 0.9056\n",
      "Epoch 6/30\n",
      "19842/19842 [==============================] - 22s 1ms/step - loss: 0.2156 - acc: 0.9196 - val_loss: 0.2290 - val_acc: 0.9106\n",
      "Epoch 7/30\n",
      "19842/19842 [==============================] - 22s 1ms/step - loss: 0.2116 - acc: 0.9223 - val_loss: 0.2366 - val_acc: 0.9083\n",
      "Epoch 8/30\n",
      "19842/19842 [==============================] - 21s 1ms/step - loss: 0.2097 - acc: 0.9235 - val_loss: 0.2305 - val_acc: 0.9124\n",
      "Epoch 9/30\n",
      "19842/19842 [==============================] - 21s 1ms/step - loss: 0.2080 - acc: 0.9256 - val_loss: 0.2365 - val_acc: 0.9129\n",
      "Epoch 10/30\n",
      "19842/19842 [==============================] - 20s 1ms/step - loss: 0.2095 - acc: 0.9260 - val_loss: 0.2351 - val_acc: 0.9170\n",
      "Epoch 11/30\n",
      "19842/19842 [==============================] - 22s 1ms/step - loss: 0.2071 - acc: 0.9288 - val_loss: 0.2377 - val_acc: 0.9138\n",
      "Epoch 12/30\n",
      "19842/19842 [==============================] - 22s 1ms/step - loss: 0.2065 - acc: 0.9307 - val_loss: 0.2356 - val_acc: 0.9201\n",
      "Epoch 13/30\n",
      "19842/19842 [==============================] - 22s 1ms/step - loss: 0.2106 - acc: 0.9291 - val_loss: 0.2384 - val_acc: 0.9165\n",
      "Epoch 14/30\n",
      "19842/19842 [==============================] - 22s 1ms/step - loss: 0.2090 - acc: 0.9310 - val_loss: 0.2375 - val_acc: 0.9206\n",
      "Epoch 15/30\n",
      "19842/19842 [==============================] - 22s 1ms/step - loss: 0.2114 - acc: 0.9306 - val_loss: 0.2387 - val_acc: 0.9206\n",
      "Epoch 16/30\n",
      "19842/19842 [==============================] - 20s 1ms/step - loss: 0.2110 - acc: 0.9316 - val_loss: 0.2419 - val_acc: 0.9206\n",
      "Epoch 17/30\n",
      "19842/19842 [==============================] - 22s 1ms/step - loss: 0.2142 - acc: 0.9307 - val_loss: 0.2448 - val_acc: 0.9206\n",
      "Epoch 18/30\n",
      "19842/19842 [==============================] - 21s 1ms/step - loss: 0.2137 - acc: 0.9305 - val_loss: 0.2487 - val_acc: 0.9197\n",
      "Epoch 19/30\n",
      "19842/19842 [==============================] - 21s 1ms/step - loss: 0.2138 - acc: 0.9321 - val_loss: 0.2489 - val_acc: 0.9206\n",
      "Epoch 20/30\n",
      "19842/19842 [==============================] - 22s 1ms/step - loss: 0.2158 - acc: 0.9315 - val_loss: 0.2559 - val_acc: 0.9142\n",
      "Epoch 21/30\n",
      "19842/19842 [==============================] - 21s 1ms/step - loss: 0.2160 - acc: 0.9327 - val_loss: 0.2449 - val_acc: 0.9220\n",
      "Epoch 22/30\n",
      "19842/19842 [==============================] - 19s 961us/step - loss: 0.2146 - acc: 0.9327 - val_loss: 0.2496 - val_acc: 0.9183\n",
      "Epoch 23/30\n",
      "19842/19842 [==============================] - 25s 1ms/step - loss: 0.2156 - acc: 0.9333 - val_loss: 0.2511 - val_acc: 0.9206\n",
      "Epoch 24/30\n",
      "19842/19842 [==============================] - 20s 1ms/step - loss: 0.2177 - acc: 0.9324 - val_loss: 0.2506 - val_acc: 0.9220\n",
      "Epoch 25/30\n",
      "19842/19842 [==============================] - 22s 1ms/step - loss: 0.2176 - acc: 0.9325 - val_loss: 0.2518 - val_acc: 0.9242\n",
      "Epoch 26/30\n",
      "19842/19842 [==============================] - 20s 1ms/step - loss: 0.2185 - acc: 0.9343 - val_loss: 0.2570 - val_acc: 0.9224\n",
      "Epoch 27/30\n",
      "19842/19842 [==============================] - 22s 1ms/step - loss: 0.2211 - acc: 0.9343 - val_loss: 0.2505 - val_acc: 0.9220\n",
      "Epoch 28/30\n",
      "19842/19842 [==============================] - 22s 1ms/step - loss: 0.2188 - acc: 0.9341 - val_loss: 0.2559 - val_acc: 0.9197\n",
      "Epoch 29/30\n",
      "19842/19842 [==============================] - 21s 1ms/step - loss: 0.2201 - acc: 0.9337 - val_loss: 0.2573 - val_acc: 0.9183\n",
      "Epoch 30/30\n",
      "19842/19842 [==============================] - 21s 1ms/step - loss: 0.2194 - acc: 0.9350 - val_loss: 0.2613 - val_acc: 0.9247\n"
     ]
    }
   ],
   "source": [
    "from keras import models\n",
    "from keras import layers\n",
    "from keras import optimizers\n",
    "model0 = models.Sequential()\n",
    "model0.add(layers.Dense(256, activation = \"relu\", input_dim = 2 * 2 * 512))\n",
    "model0.add(layers.Dropout(0.5))\n",
    "model0.add(layers.Dense(1, activation='sigmoid'))\n",
    "\n",
    "model0.compile(optimizer=optimizers.RMSprop(lr=2e-5),\n",
    "              loss='binary_crossentropy',\n",
    "              metrics=['acc'])\n",
    "\n",
    "history = model0.fit(train_features, train_labels,\n",
    "                    epochs=30,\n",
    "                    batch_size=4,\n",
    "                    validation_data=(validation_features, validation_labels))"
   ]
  },
  {
   "cell_type": "code",
   "execution_count": 37,
   "metadata": {
    "scrolled": true
   },
   "outputs": [
    {
     "data": {
      "image/png": "[encoded data removed]",
      "text/plain": [
       "<matplotlib.figure.Figure at 0x18329e0cc0>"
      ]
     },
     "metadata": {},
     "output_type": "display_data"
    },
    {
     "data": {
      "image/png": "[encoded data removed]",
      "text/plain": [
       "<matplotlib.figure.Figure at 0x1832a86550>"
      ]
     },
     "metadata": {},
     "output_type": "display_data"
    }
   ],
   "source": [
    "import matplotlib.pyplot as plt\n",
    "\n",
    "acc = history.history['acc']\n",
    "val_acc = history.history['val_acc']\n",
    "loss = history.history['loss']\n",
    "val_loss = history.history['val_loss']\n",
    "\n",
    "epochs = range(len(acc))\n",
    "\n",
    "plt.plot(epochs, acc, 'bo', label='Training acc')\n",
    "plt.plot(epochs, val_acc, 'b', label='Validation acc')\n",
    "plt.title('Training and validation accuracy')\n",
    "plt.legend()\n",
    "\n",
    "plt.figure()\n",
    "\n",
    "plt.plot(epochs, loss, 'bo', label='Training loss')\n",
    "plt.plot(epochs, val_loss, 'b', label='Validation loss')\n",
    "plt.title('Training and validation loss')\n",
    "plt.legend()\n",
    "\n",
    "plt.show()"
   ]
  },
  {
   "cell_type": "code",
   "execution_count": 122,
   "metadata": {},
   "outputs": [
    {
     "name": "stdout",
     "output_type": "stream",
     "text": [
      "5512/5512 [==============================] - 1s 104us/step\n"
     ]
    },
    {
     "data": {
      "text/plain": [
       "[0.23705693252157578, 0.931966618287373]"
      ]
     },
     "execution_count": 122,
     "metadata": {},
     "output_type": "execute_result"
    }
   ],
   "source": [
    "model0.evaluate(test_features,test_labels)"
   ]
  },
  {
   "cell_type": "code",
   "execution_count": 38,
   "metadata": {},
   "outputs": [
    {
     "name": "stdout",
     "output_type": "stream",
     "text": [
      "Train on 19842 samples, validate on 2204 samples\n",
      "Epoch 1/30\n",
      "19842/19842 [==============================] - 28s 1ms/step - loss: 0.5031 - acc: 0.7482 - val_loss: 0.3197 - val_acc: 0.8607\n",
      "Epoch 2/30\n",
      "19842/19842 [==============================] - 27s 1ms/step - loss: 0.3113 - acc: 0.8709 - val_loss: 0.2824 - val_acc: 0.8834\n",
      "Epoch 3/30\n",
      "19842/19842 [==============================] - 26s 1ms/step - loss: 0.2736 - acc: 0.8937 - val_loss: 0.2697 - val_acc: 0.8934\n",
      "Epoch 4/30\n",
      "19842/19842 [==============================] - 24s 1ms/step - loss: 0.2571 - acc: 0.9070 - val_loss: 0.2645 - val_acc: 0.8979\n",
      "Epoch 5/30\n",
      "19842/19842 [==============================] - 24s 1ms/step - loss: 0.2490 - acc: 0.9140 - val_loss: 0.2622 - val_acc: 0.9083\n",
      "Epoch 6/30\n",
      "19842/19842 [==============================] - 24s 1ms/step - loss: 0.2465 - acc: 0.9181 - val_loss: 0.2668 - val_acc: 0.9093\n",
      "Epoch 7/30\n",
      "19842/19842 [==============================] - 24s 1ms/step - loss: 0.2484 - acc: 0.9219 - val_loss: 0.2810 - val_acc: 0.9165\n",
      "Epoch 8/30\n",
      "19842/19842 [==============================] - 24s 1ms/step - loss: 0.2560 - acc: 0.9220 - val_loss: 0.2909 - val_acc: 0.9138\n",
      "Epoch 9/30\n",
      "19842/19842 [==============================] - 24s 1ms/step - loss: 0.2588 - acc: 0.9256 - val_loss: 0.2899 - val_acc: 0.9161\n",
      "Epoch 10/30\n",
      "19842/19842 [==============================] - 26s 1ms/step - loss: 0.2656 - acc: 0.9260 - val_loss: 0.3070 - val_acc: 0.9161\n",
      "Epoch 11/30\n",
      "19842/19842 [==============================] - 25s 1ms/step - loss: 0.2678 - acc: 0.9276 - val_loss: 0.3183 - val_acc: 0.9156\n",
      "Epoch 12/30\n",
      "19842/19842 [==============================] - 25s 1ms/step - loss: 0.2730 - acc: 0.9274 - val_loss: 0.3097 - val_acc: 0.9201\n",
      "Epoch 13/30\n",
      "19842/19842 [==============================] - 23s 1ms/step - loss: 0.2799 - acc: 0.9275 - val_loss: 0.3242 - val_acc: 0.9197\n",
      "Epoch 14/30\n",
      "19842/19842 [==============================] - 22s 1ms/step - loss: 0.2836 - acc: 0.9290 - val_loss: 0.3208 - val_acc: 0.9192\n",
      "Epoch 15/30\n",
      "19842/19842 [==============================] - 23s 1ms/step - loss: 0.2816 - acc: 0.9298 - val_loss: 0.3263 - val_acc: 0.9211\n",
      "Epoch 16/30\n",
      "19842/19842 [==============================] - 23s 1ms/step - loss: 0.2906 - acc: 0.9287 - val_loss: 0.3145 - val_acc: 0.9206\n",
      "Epoch 17/30\n",
      "19842/19842 [==============================] - 23s 1ms/step - loss: 0.2871 - acc: 0.9300 - val_loss: 0.3454 - val_acc: 0.9251\n",
      "Epoch 18/30\n",
      "19842/19842 [==============================] - 23s 1ms/step - loss: 0.3015 - acc: 0.9317 - val_loss: 0.3476 - val_acc: 0.9192\n",
      "Epoch 19/30\n",
      "19842/19842 [==============================] - 22s 1ms/step - loss: 0.3023 - acc: 0.9291 - val_loss: 0.3510 - val_acc: 0.9233\n",
      "Epoch 20/30\n",
      "19842/19842 [==============================] - 23s 1ms/step - loss: 0.2929 - acc: 0.9324 - val_loss: 0.3557 - val_acc: 0.9156\n",
      "Epoch 21/30\n",
      "19842/19842 [==============================] - 23s 1ms/step - loss: 0.3016 - acc: 0.9286 - val_loss: 0.3630 - val_acc: 0.9201\n",
      "Epoch 22/30\n",
      "19842/19842 [==============================] - 26s 1ms/step - loss: 0.3049 - acc: 0.9305 - val_loss: 0.3626 - val_acc: 0.9206\n",
      "Epoch 23/30\n",
      "19842/19842 [==============================] - 24s 1ms/step - loss: 0.3166 - acc: 0.9280 - val_loss: 0.3655 - val_acc: 0.9220\n",
      "Epoch 24/30\n",
      "19842/19842 [==============================] - 24s 1ms/step - loss: 0.3128 - acc: 0.9302 - val_loss: 0.3653 - val_acc: 0.9220\n",
      "Epoch 25/30\n",
      "19842/19842 [==============================] - 25s 1ms/step - loss: 0.3156 - acc: 0.9319 - val_loss: 0.3755 - val_acc: 0.9133\n",
      "Epoch 26/30\n",
      "19842/19842 [==============================] - 24s 1ms/step - loss: 0.3176 - acc: 0.9321 - val_loss: 0.3787 - val_acc: 0.9215\n",
      "Epoch 27/30\n",
      "19842/19842 [==============================] - 22s 1ms/step - loss: 0.3054 - acc: 0.9323 - val_loss: 0.3785 - val_acc: 0.9124\n",
      "Epoch 28/30\n",
      "19842/19842 [==============================] - 26s 1ms/step - loss: 0.3173 - acc: 0.9314 - val_loss: 0.3912 - val_acc: 0.9206\n",
      "Epoch 29/30\n",
      "19842/19842 [==============================] - 25s 1ms/step - loss: 0.3247 - acc: 0.9323 - val_loss: 0.3842 - val_acc: 0.9174\n",
      "Epoch 30/30\n",
      "19842/19842 [==============================] - 25s 1ms/step - loss: 0.3155 - acc: 0.9349 - val_loss: 0.4007 - val_acc: 0.9156\n"
     ]
    }
   ],
   "source": [
    "from keras import models\n",
    "from keras import layers\n",
    "from keras import optimizers\n",
    "model = models.Sequential()\n",
    "model.add(layers.Dense(256, activation = \"relu\", input_dim = 2 * 2 * 512))\n",
    "\n",
    "model.add(layers.Dense(256, activation = \"relu\", input_dim = 2 * 2 * 512))\n",
    "#model.add(layers.Dropout(0.7))\n",
    "model.add(layers.Dense(1, activation='sigmoid'))\n",
    "\n",
    "model.compile(optimizer=optimizers.RMSprop(),\n",
    "              loss='binary_crossentropy',\n",
    "              metrics=['acc'])\n",
    "\n",
    "history = model.fit(train_features, train_labels,\n",
    "                    epochs=30,\n",
    "                    batch_size=4,\n",
    "                    validation_data=(validation_features, validation_labels))"
   ]
  },
  {
   "cell_type": "code",
   "execution_count": 39,
   "metadata": {},
   "outputs": [
    {
     "data": {
      "image/png": "[encoded data removed]",
      "text/plain": [
       "<matplotlib.figure.Figure at 0x1833f58eb8>"
      ]
     },
     "metadata": {},
     "output_type": "display_data"
    },
    {
     "data": {
      "image/png": "[encoded data removed]",
      "text/plain": [
       "<matplotlib.figure.Figure at 0x1834339550>"
      ]
     },
     "metadata": {},
     "output_type": "display_data"
    }
   ],
   "source": [
    "import matplotlib.pyplot as plt\n",
    "\n",
    "acc = history.history['acc']\n",
    "val_acc = history.history['val_acc']\n",
    "loss = history.history['loss']\n",
    "val_loss = history.history['val_loss']\n",
    "\n",
    "epochs = range(len(acc))\n",
    "\n",
    "plt.plot(epochs, acc, 'bo', label='Training acc')\n",
    "plt.plot(epochs, val_acc, 'b', label='Validation acc')\n",
    "plt.title('Training and validation accuracy')\n",
    "plt.legend()\n",
    "\n",
    "plt.figure()\n",
    "\n",
    "plt.plot(epochs, loss, 'bo', label='Training loss')\n",
    "plt.plot(epochs, val_loss, 'b', label='Validation loss')\n",
    "plt.title('Training and validation loss')\n",
    "plt.legend()\n",
    "\n",
    "plt.show()"
   ]
  },
  {
   "cell_type": "code",
   "execution_count": 94,
   "metadata": {
    "scrolled": true
   },
   "outputs": [
    {
     "name": "stdout",
     "output_type": "stream",
     "text": [
      "5512/5512 [==============================] - 0s 60us/step\n"
     ]
    },
    {
     "data": {
      "text/plain": [
       "[0.36444450198998474, 0.9299709724238027]"
      ]
     },
     "execution_count": 94,
     "metadata": {},
     "output_type": "execute_result"
    }
   ],
   "source": [
    "model.evaluate(test_features,test_labels)"
   ]
  },
  {
   "cell_type": "code",
   "execution_count": 93,
   "metadata": {},
   "outputs": [],
   "source": [
    "predict_features = model.predict(test_features)"
   ]
  },
  {
   "cell_type": "code",
   "execution_count": 101,
   "metadata": {},
   "outputs": [
    {
     "name": "stdout",
     "output_type": "stream",
     "text": [
      "5512/5512 [==============================] - 0s 61us/step\n"
     ]
    },
    {
     "data": {
      "text/plain": [
       "[0.08074419366950047, 0.09687953555878084]"
      ]
     },
     "execution_count": 101,
     "metadata": {},
     "output_type": "execute_result"
    }
   ],
   "source": [
    "#model.evaluate(test_features,predict_features)"
   ]
  },
  {
   "cell_type": "code",
   "execution_count": 60,
   "metadata": {},
   "outputs": [
    {
     "name": "stdout",
     "output_type": "stream",
     "text": [
      "Train on 19842 samples, validate on 2204 samples\n",
      "Epoch 1/30\n",
      "19842/19842 [==============================] - 24s 1ms/step - loss: 0.3649 - acc: 0.8397 - val_loss: 0.2616 - val_acc: 0.8897\n",
      "Epoch 2/30\n",
      "19842/19842 [==============================] - 24s 1ms/step - loss: 0.2449 - acc: 0.9015 - val_loss: 0.2298 - val_acc: 0.9056\n",
      "Epoch 3/30\n",
      "19842/19842 [==============================] - 24s 1ms/step - loss: 0.2164 - acc: 0.9150 - val_loss: 0.2166 - val_acc: 0.9106\n",
      "Epoch 4/30\n",
      "19842/19842 [==============================] - 23s 1ms/step - loss: 0.1972 - acc: 0.9227 - val_loss: 0.2127 - val_acc: 0.9156\n",
      "Epoch 5/30\n",
      "19842/19842 [==============================] - 24s 1ms/step - loss: 0.1902 - acc: 0.9270 - val_loss: 0.2148 - val_acc: 0.9129\n",
      "Epoch 6/30\n",
      "19842/19842 [==============================] - 23s 1ms/step - loss: 0.1811 - acc: 0.9307 - val_loss: 0.1947 - val_acc: 0.9274\n",
      "Epoch 7/30\n",
      "19842/19842 [==============================] - 24s 1ms/step - loss: 0.1740 - acc: 0.9336 - val_loss: 0.1951 - val_acc: 0.9251\n",
      "Epoch 8/30\n",
      "19842/19842 [==============================] - 23s 1ms/step - loss: 0.1703 - acc: 0.9350 - val_loss: 0.1933 - val_acc: 0.9220\n",
      "Epoch 9/30\n",
      "19842/19842 [==============================] - 24s 1ms/step - loss: 0.1666 - acc: 0.9363 - val_loss: 0.1926 - val_acc: 0.9233\n",
      "Epoch 10/30\n",
      "19842/19842 [==============================] - 25s 1ms/step - loss: 0.1627 - acc: 0.9378 - val_loss: 0.1880 - val_acc: 0.9301\n",
      "Epoch 11/30\n",
      "19842/19842 [==============================] - 24s 1ms/step - loss: 0.1570 - acc: 0.9422 - val_loss: 0.1948 - val_acc: 0.9260\n",
      "Epoch 12/30\n",
      "19842/19842 [==============================] - 25s 1ms/step - loss: 0.1532 - acc: 0.9435 - val_loss: 0.1844 - val_acc: 0.9292\n",
      "Epoch 13/30\n",
      "19842/19842 [==============================] - 24s 1ms/step - loss: 0.1531 - acc: 0.9427 - val_loss: 0.1859 - val_acc: 0.9283\n",
      "Epoch 14/30\n",
      "19842/19842 [==============================] - 26s 1ms/step - loss: 0.1503 - acc: 0.9435 - val_loss: 0.1836 - val_acc: 0.9315\n",
      "Epoch 15/30\n",
      "19842/19842 [==============================] - 24s 1ms/step - loss: 0.1443 - acc: 0.9456 - val_loss: 0.1819 - val_acc: 0.9310\n",
      "Epoch 16/30\n",
      "19842/19842 [==============================] - 25s 1ms/step - loss: 0.1436 - acc: 0.9467 - val_loss: 0.1898 - val_acc: 0.9306\n",
      "Epoch 17/30\n",
      "19842/19842 [==============================] - 24s 1ms/step - loss: 0.1416 - acc: 0.9466 - val_loss: 0.1920 - val_acc: 0.9310\n",
      "Epoch 18/30\n",
      "19842/19842 [==============================] - 25s 1ms/step - loss: 0.1390 - acc: 0.9491 - val_loss: 0.1885 - val_acc: 0.9310\n",
      "Epoch 19/30\n",
      "19842/19842 [==============================] - 26s 1ms/step - loss: 0.1381 - acc: 0.9487 - val_loss: 0.1857 - val_acc: 0.9297\n",
      "Epoch 20/30\n",
      "19842/19842 [==============================] - 27s 1ms/step - loss: 0.1337 - acc: 0.9504 - val_loss: 0.1833 - val_acc: 0.9315\n",
      "Epoch 21/30\n",
      "19842/19842 [==============================] - 27s 1ms/step - loss: 0.1298 - acc: 0.9513 - val_loss: 0.1871 - val_acc: 0.9319\n",
      "Epoch 22/30\n",
      "19842/19842 [==============================] - 27s 1ms/step - loss: 0.1284 - acc: 0.9532 - val_loss: 0.1781 - val_acc: 0.9365\n",
      "Epoch 23/30\n",
      "19842/19842 [==============================] - 24s 1ms/step - loss: 0.1268 - acc: 0.9531 - val_loss: 0.1820 - val_acc: 0.9360\n",
      "Epoch 24/30\n",
      "19842/19842 [==============================] - 25s 1ms/step - loss: 0.1211 - acc: 0.9557 - val_loss: 0.1849 - val_acc: 0.9347\n",
      "Epoch 25/30\n",
      "19842/19842 [==============================] - 25s 1ms/step - loss: 0.1205 - acc: 0.9558 - val_loss: 0.1944 - val_acc: 0.9319\n",
      "Epoch 26/30\n",
      "19842/19842 [==============================] - 26s 1ms/step - loss: 0.1174 - acc: 0.9562 - val_loss: 0.1835 - val_acc: 0.9315\n",
      "Epoch 27/30\n",
      "19842/19842 [==============================] - 25s 1ms/step - loss: 0.1129 - acc: 0.9594 - val_loss: 0.1959 - val_acc: 0.9342\n",
      "Epoch 28/30\n",
      "19842/19842 [==============================] - 27s 1ms/step - loss: 0.1154 - acc: 0.9595 - val_loss: 0.1977 - val_acc: 0.9301\n",
      "Epoch 29/30\n",
      "19842/19842 [==============================] - 26s 1ms/step - loss: 0.1139 - acc: 0.9587 - val_loss: 0.1830 - val_acc: 0.9301\n",
      "Epoch 30/30\n",
      "19842/19842 [==============================] - 26s 1ms/step - loss: 0.1095 - acc: 0.9613 - val_loss: 0.1906 - val_acc: 0.9356\n"
     ]
    }
   ],
   "source": [
    "from keras import models\n",
    "from keras import layers\n",
    "from keras import optimizers\n",
    "model2 = models.Sequential()\n",
    "model2.add(layers.Dense(256, activation = \"relu\", input_dim = 2 * 2 * 512))\n",
    "model2.add(layers.Dropout(0.5))\n",
    "model2.add(layers.Dense(256, activation = \"relu\", input_dim = 2 * 2 * 512))\n",
    "model2.add(layers.Dense(1, activation='sigmoid'))\n",
    "\n",
    "model2.compile(optimizer=optimizers.Adam(lr=2e-5),\n",
    "              loss='binary_crossentropy',\n",
    "              metrics=['acc'])\n",
    "\n",
    "history2 = model2.fit(train_features, train_labels,\n",
    "                    epochs=30,\n",
    "                    batch_size=4,\n",
    "                    validation_data=(validation_features, validation_labels))"
   ]
  },
  {
   "cell_type": "code",
   "execution_count": 61,
   "metadata": {},
   "outputs": [
    {
     "data": {
      "image/png": "[encoded data removed]",
      "text/plain": [
       "<matplotlib.figure.Figure at 0x184f1aec88>"
      ]
     },
     "metadata": {},
     "output_type": "display_data"
    },
    {
     "data": {
      "image/png": "[encoded data removed]",
      "text/plain": [
       "<matplotlib.figure.Figure at 0x184f122320>"
      ]
     },
     "metadata": {},
     "output_type": "display_data"
    }
   ],
   "source": [
    "import matplotlib.pyplot as plt\n",
    "\n",
    "acc = history2.history['acc']\n",
    "val_acc = history2.history['val_acc']\n",
    "loss = history2.history['loss']\n",
    "val_loss = history2.history['val_loss']\n",
    "\n",
    "epochs = range(len(acc))\n",
    "\n",
    "plt.plot(epochs, acc, 'bo', label='Training acc')\n",
    "plt.plot(epochs, val_acc, 'b', label='Validation acc')\n",
    "plt.title('Training and validation accuracy')\n",
    "plt.legend()\n",
    "\n",
    "plt.figure()\n",
    "\n",
    "plt.plot(epochs, loss, 'bo', label='Training loss')\n",
    "plt.plot(epochs, val_loss, 'b', label='Validation loss')\n",
    "plt.title('Training and validation loss')\n",
    "plt.legend()\n",
    "\n",
    "plt.show()"
   ]
  },
  {
   "cell_type": "code",
   "execution_count": 62,
   "metadata": {},
   "outputs": [
    {
     "name": "stdout",
     "output_type": "stream",
     "text": [
      "5512/5512 [==============================] - 0s 62us/step\n"
     ]
    },
    {
     "data": {
      "text/plain": [
       "[0.17178268368924995, 0.9368650217706821]"
      ]
     },
     "execution_count": 62,
     "metadata": {},
     "output_type": "execute_result"
    }
   ],
   "source": [
    "model2.evaluate(test_features,test_labels)"
   ]
  },
  {
   "cell_type": "code",
   "execution_count": 52,
   "metadata": {},
   "outputs": [
    {
     "data": {
      "text/plain": [
       "(2204, 2048)"
      ]
     },
     "execution_count": 52,
     "metadata": {},
     "output_type": "execute_result"
    }
   ],
   "source": [
    "validation_features.shape"
   ]
  },
  {
   "cell_type": "code",
   "execution_count": 53,
   "metadata": {},
   "outputs": [
    {
     "data": {
      "text/plain": [
       "(19842, 2048)"
      ]
     },
     "execution_count": 53,
     "metadata": {},
     "output_type": "execute_result"
    }
   ],
   "source": [
    "train_features.shape"
   ]
  },
  {
   "cell_type": "code",
   "execution_count": 84,
   "metadata": {},
   "outputs": [
    {
     "name": "stdout",
     "output_type": "stream",
     "text": [
      "Train on 19842 samples, validate on 2204 samples\n",
      "Epoch 1/30\n",
      "19842/19842 [==============================] - 27s 1ms/step - loss: 0.3586 - acc: 0.8505 - val_loss: 0.2679 - val_acc: 0.8970\n",
      "Epoch 2/30\n",
      "19842/19842 [==============================] - 27s 1ms/step - loss: 0.2945 - acc: 0.8907 - val_loss: 0.2938 - val_acc: 0.8684\n",
      "Epoch 3/30\n",
      "19842/19842 [==============================] - 25s 1ms/step - loss: 0.2731 - acc: 0.8993 - val_loss: 0.2257 - val_acc: 0.9138\n",
      "Epoch 4/30\n",
      "19842/19842 [==============================] - 26s 1ms/step - loss: 0.2639 - acc: 0.9054 - val_loss: 0.2306 - val_acc: 0.9156\n",
      "Epoch 5/30\n",
      "19842/19842 [==============================] - 29s 1ms/step - loss: 0.2596 - acc: 0.9071 - val_loss: 0.2328 - val_acc: 0.9142\n",
      "Epoch 6/30\n",
      "19842/19842 [==============================] - 29s 1ms/step - loss: 0.2547 - acc: 0.9097 - val_loss: 0.2431 - val_acc: 0.9020\n",
      "Epoch 7/30\n",
      "19842/19842 [==============================] - 26s 1ms/step - loss: 0.2525 - acc: 0.9117 - val_loss: 0.2404 - val_acc: 0.9079\n",
      "Epoch 8/30\n",
      "19842/19842 [==============================] - 26s 1ms/step - loss: 0.2478 - acc: 0.9146 - val_loss: 0.2400 - val_acc: 0.9065\n",
      "Epoch 9/30\n",
      "19842/19842 [==============================] - 28s 1ms/step - loss: 0.2459 - acc: 0.9155 - val_loss: 0.2291 - val_acc: 0.9074\n",
      "Epoch 10/30\n",
      "19842/19842 [==============================] - 30s 2ms/step - loss: 0.2515 - acc: 0.9129 - val_loss: 0.2453 - val_acc: 0.9238\n",
      "Epoch 11/30\n",
      "19842/19842 [==============================] - 30s 2ms/step - loss: 0.2414 - acc: 0.9168 - val_loss: 0.2285 - val_acc: 0.9133\n",
      "Epoch 12/30\n",
      "19842/19842 [==============================] - 26s 1ms/step - loss: 0.2480 - acc: 0.9152 - val_loss: 0.2344 - val_acc: 0.9256\n",
      "Epoch 13/30\n",
      "19842/19842 [==============================] - 26s 1ms/step - loss: 0.2415 - acc: 0.9184 - val_loss: 0.2343 - val_acc: 0.9260\n",
      "Epoch 14/30\n",
      "19842/19842 [==============================] - 26s 1ms/step - loss: 0.2391 - acc: 0.9194 - val_loss: 0.2379 - val_acc: 0.9074\n",
      "Epoch 15/30\n",
      "19842/19842 [==============================] - 28s 1ms/step - loss: 0.2401 - acc: 0.9195 - val_loss: 0.2630 - val_acc: 0.9188\n",
      "Epoch 16/30\n",
      "19842/19842 [==============================] - 29s 1ms/step - loss: 0.2479 - acc: 0.9171 - val_loss: 0.2351 - val_acc: 0.9111\n",
      "Epoch 17/30\n",
      "19842/19842 [==============================] - 28s 1ms/step - loss: 0.2473 - acc: 0.9165 - val_loss: 0.2588 - val_acc: 0.8993\n",
      "Epoch 18/30\n",
      "19842/19842 [==============================] - 30s 2ms/step - loss: 0.2477 - acc: 0.9183 - val_loss: 0.2382 - val_acc: 0.9238\n",
      "Epoch 19/30\n",
      "19842/19842 [==============================] - 28s 1ms/step - loss: 0.2458 - acc: 0.9212 - val_loss: 0.2393 - val_acc: 0.9156\n",
      "Epoch 20/30\n",
      "19842/19842 [==============================] - 27s 1ms/step - loss: 0.2466 - acc: 0.9173 - val_loss: 0.2579 - val_acc: 0.9170\n",
      "Epoch 21/30\n",
      "19842/19842 [==============================] - 27s 1ms/step - loss: 0.2462 - acc: 0.9208 - val_loss: 0.2273 - val_acc: 0.9301\n",
      "Epoch 22/30\n",
      "19842/19842 [==============================] - 27s 1ms/step - loss: 0.2478 - acc: 0.9208 - val_loss: 0.2331 - val_acc: 0.9097\n",
      "Epoch 23/30\n",
      "19842/19842 [==============================] - 28s 1ms/step - loss: 0.2425 - acc: 0.9209 - val_loss: 0.2323 - val_acc: 0.9238\n",
      "Epoch 24/30\n",
      "19842/19842 [==============================] - 27s 1ms/step - loss: 0.2353 - acc: 0.9219 - val_loss: 0.2946 - val_acc: 0.9088\n",
      "Epoch 25/30\n",
      "19842/19842 [==============================] - 27s 1ms/step - loss: 0.2477 - acc: 0.9196 - val_loss: 0.2298 - val_acc: 0.9229\n",
      "Epoch 26/30\n",
      "19842/19842 [==============================] - 28s 1ms/step - loss: 0.2505 - acc: 0.9187 - val_loss: 0.2252 - val_acc: 0.9297\n",
      "Epoch 27/30\n",
      "19842/19842 [==============================] - 28s 1ms/step - loss: 0.2438 - acc: 0.9196 - val_loss: 0.2366 - val_acc: 0.9251\n",
      "Epoch 28/30\n",
      "19842/19842 [==============================] - 27s 1ms/step - loss: 0.2419 - acc: 0.9191 - val_loss: 0.2229 - val_acc: 0.9265\n",
      "Epoch 29/30\n",
      "19842/19842 [==============================] - 28s 1ms/step - loss: 0.2490 - acc: 0.9186 - val_loss: 0.2430 - val_acc: 0.9297\n",
      "Epoch 30/30\n",
      "19842/19842 [==============================] - 27s 1ms/step - loss: 0.2389 - acc: 0.9230 - val_loss: 0.2290 - val_acc: 0.9124\n"
     ]
    }
   ],
   "source": [
    "from keras import models\n",
    "from keras import layers\n",
    "from keras import optimizers\n",
    "model1 = models.Sequential()\n",
    "model1.add(layers.Dense(256, activation = \"relu\", input_dim = 2 * 2 * 512))\n",
    "model1.add(layers.Dropout(0.5))\n",
    "model1.add(layers.Dense(256, activation = \"relu\", input_dim = 2 * 2 * 512))\n",
    "model1.add(layers.Dropout(0.7))\n",
    "model1.add(layers.Dense(256, activation = \"relu\", input_dim = 2 * 2 * 512))\n",
    "model1.add(layers.Dropout(0.3))\n",
    "model1.add(layers.Dense(1, activation='sigmoid'))\n",
    "\n",
    "model1.compile(optimizer=optimizers.Adam(),\n",
    "              loss='binary_crossentropy',\n",
    "              metrics=['acc'])\n",
    "\n",
    "history = model1.fit(train_features, train_labels,\n",
    "                    epochs=30,\n",
    "                    batch_size=4,\n",
    "                    validation_data=(validation_features, validation_labels))"
   ]
  },
  {
   "cell_type": "code",
   "execution_count": 85,
   "metadata": {},
   "outputs": [
    {
     "data": {
      "image/png": "[encoded data removed]",
      "text/plain": [
       "<matplotlib.figure.Figure at 0x183f7a6128>"
      ]
     },
     "metadata": {},
     "output_type": "display_data"
    },
    {
     "data": {
      "image/png": "[encoded data removed]",
      "text/plain": [
       "<matplotlib.figure.Figure at 0x183fb9a2e8>"
      ]
     },
     "metadata": {},
     "output_type": "display_data"
    }
   ],
   "source": [
    "import matplotlib.pyplot as plt\n",
    "\n",
    "acc = history.history['acc']\n",
    "val_acc = history.history['val_acc']\n",
    "loss = history.history['loss']\n",
    "val_loss = history.history['val_loss']\n",
    "\n",
    "epochs = range(len(acc))\n",
    "\n",
    "plt.plot(epochs, acc, 'bo', label='Training acc')\n",
    "plt.plot(epochs, val_acc, 'b', label='Validation acc')\n",
    "plt.title('Training and validation accuracy')\n",
    "plt.legend()\n",
    "\n",
    "plt.figure()\n",
    "\n",
    "plt.plot(epochs, loss, 'bo', label='Training loss')\n",
    "plt.plot(epochs, val_loss, 'b', label='Validation loss')\n",
    "plt.title('Training and validation loss')\n",
    "plt.legend()\n",
    "\n",
    "plt.show()"
   ]
  },
  {
   "cell_type": "code",
   "execution_count": 97,
   "metadata": {},
   "outputs": [
    {
     "name": "stdout",
     "output_type": "stream",
     "text": [
      "5512/5512 [==============================] - 0s 60us/step\n"
     ]
    },
    {
     "data": {
      "text/plain": [
       "[0.21977549151170064, 0.9123730043541364]"
      ]
     },
     "execution_count": 97,
     "metadata": {},
     "output_type": "execute_result"
    }
   ],
   "source": [
    "model1.evaluate(test_features,test_labels)"
   ]
  },
  {
   "cell_type": "code",
   "execution_count": null,
   "metadata": {},
   "outputs": [],
   "source": [
    "from keras import models\n",
    "from keras import layers\n",
    "from keras import optimizers\n",
    "from keras.layers.convolutional import Conv2D\n",
    "from keras.layers import Activation, Dense, MaxPooling2D,Flatten\n",
    "\n",
    "\n",
    "from keras.preprocessing.image import ImageDataGenerator\n",
    "from keras.preprocessing.image import img_to_array, load_img\n",
    "\n",
    "model3 = models.Sequential()\n",
    "model3.add(layers.Conv2D(32, (3, 3), activation='relu',input_shape=(, 3)))\n",
    "model3.add(layers.MaxPooling2D((2, 2)))\n",
    "model3.add(layers.Conv2D(64, (3, 3), activation='relu'))\n",
    "model3.add(layers.MaxPooling2D((2, 2)))\n",
    "model3.add(layers.Conv2D(128, (3, 3), activation='relu'))\n",
    "model3.add(layers.MaxPooling2D((2, 2)))\n",
    "model3.add(layers.Conv2D(128, (3, 3), activation='relu'))\n",
    "model3.add(layers.MaxPooling2D((2, 2)))\n",
    "model3.add(layers.Flatten())\n",
    "model3.add(layers.Dropout(0.5))  #Dropout for regularization\n",
    "model3.add(layers.Dense(512, activation='relu'))\n",
    "model3.add(layers.Dense(1, activation='sigmoid'))  #Sigmoid function at the end because we have just two classes\n",
    "\n",
    "\n",
    "\n",
    "model3.compile(optimizer=optimizers.Adam(),\n",
    "              loss='binary_crossentropy',\n",
    "              metrics=['acc'])\n",
    "\n",
    "history = model3.fit(train_features, train_labels,\n",
    "                    epochs=30,\n",
    "                    batch_size=4,\n",
    "                    validation_data=(validation_features, validation_labels))"
   ]
  },
  {
   "cell_type": "code",
   "execution_count": null,
   "metadata": {},
   "outputs": [],
   "source": [
    "#input_shape=(2,2,512)\n",
    "model3 = models.Sequential()\n",
    "#model3.add(Conv2D(32,(4,4), input_shape= input_shape))\n",
    "model3.add(Activation(\"relu\"))\n",
    "model3.add(MaxPooling2D(pool_size=2))\n",
    "\n",
    "model3.add(Flatten())\n",
    "model3.add(layers.Dense(64, activation = \"relu\", input_dim = 2 * 2 * 512))\n",
    "model3.add(layers.Dropout(0.5))\n",
    "model3.add(layers.Dense(1, activation='sigmoid'))"
   ]
  },
  {
   "cell_type": "code",
   "execution_count": null,
   "metadata": {},
   "outputs": [],
   "source": [
    "from keras import models\n",
    "from keras import layers\n",
    "from keras import optimizers\n",
    "from keras.layers.convolutional import Conv2D\n",
    "from keras.layers import Activation, Dense, MaxPooling2D,Flatten\n",
    "input_shape=(2,2,512)\n",
    "model3 = models.Sequential()\n",
    "model3.add(layers.GlobalAveragePooling2D(input_shape=(2,2,512)))\n",
    "model3.add(layers.Dense(1, activation='sigmoid'))\n",
    "\n",
    "\n",
    "model3.compile(optimizer=optimizers.Adam(),\n",
    "              loss='binary_crossentropy',\n",
    "              metrics=['acc'])\n",
    "\n",
    "history = model3.fit(train_features, train_labels,\n",
    "                    epochs=30,\n",
    "                    batch_size=4,\n",
    "                    validation_data=(validation_features, validation_labels))"
   ]
  },
  {
   "cell_type": "code",
   "execution_count": null,
   "metadata": {},
   "outputs": [],
   "source": [
    "testPaths[100:120]"
   ]
  },
  {
   "cell_type": "code",
   "execution_count": 49,
   "metadata": {},
   "outputs": [],
   "source": [
    "# Define function to visualize predictions\n",
    "def visualize_predictions(classifier, n_cases):\n",
    "    for i in range(0,n_cases):\n",
    "        path = testPaths\n",
    "        #print(path)\n",
    "        # Get picture\n",
    "        random_img = random.choice(testPaths)\n",
    "        #print(random_img)\n",
    "        for img_p in testPaths[77:81]:\n",
    "            img_path = img_p\n",
    "            #print(img_path)\n",
    "            img = image.load_img(img_path, target_size=(64, 64))\n",
    "            img_tensor = image.img_to_array(img)  # Image data encoded as integers in the 0–255 range\n",
    "            img_tensor /= 255.  # Normalize to [0,1] for plt.imshow application\n",
    "\n",
    "            # Extract features\n",
    "            features = conv_base.predict(img_tensor.reshape(1,64, 64, 3))\n",
    "\n",
    "            # Make prediction\n",
    "            try:\n",
    "                prediction = classifier.predict(features)\n",
    "            except:\n",
    "                prediction = classifier.predict(features.reshape(1, 2*2*512))\n",
    "\n",
    "            # Show picture\n",
    "            plt.imshow(img_tensor)\n",
    "            plt.show()\n",
    "\n",
    "            # Write prediction\n",
    "            if prediction < 0.5:\n",
    "                print('This is Parasitized')\n",
    "            else:\n",
    "                print('This is Uninfected')"
   ]
  },
  {
   "cell_type": "code",
   "execution_count": 50,
   "metadata": {},
   "outputs": [
    {
     "data": {
      "image/png": "[encoded data removed]",
      "text/plain": [
       "<matplotlib.figure.Figure at 0x182d0776d8>"
      ]
     },
     "metadata": {},
     "output_type": "display_data"
    },
    {
     "name": "stdout",
     "output_type": "stream",
     "text": [
      "This is Uninfected\n"
     ]
    },
    {
     "data": {
      "image/png": "[encoded data removed]",
      "text/plain": [
       "<matplotlib.figure.Figure at 0x182cfc17b8>"
      ]
     },
     "metadata": {},
     "output_type": "display_data"
    },
    {
     "name": "stdout",
     "output_type": "stream",
     "text": [
      "This is Parasitized\n"
     ]
    },
    {
     "data": {
      "image/png": "[encoded data removed]",
      "text/plain": [
       "<matplotlib.figure.Figure at 0x182d111e80>"
      ]
     },
     "metadata": {},
     "output_type": "display_data"
    },
    {
     "name": "stdout",
     "output_type": "stream",
     "text": [
      "This is Parasitized\n"
     ]
    },
    {
     "data": {
      "image/png": "[encoded data removed]",
      "text/plain": [
       "<matplotlib.figure.Figure at 0x182cfbeb38>"
      ]
     },
     "metadata": {},
     "output_type": "display_data"
    },
    {
     "name": "stdout",
     "output_type": "stream",
     "text": [
      "This is Parasitized\n"
     ]
    }
   ],
   "source": [
    "from keras.preprocessing import image\n",
    "# Visualize predictions\n",
    "visualize_predictions(model2, 1)"
   ]
  }
 ],
 "metadata": {
  "kernelspec": {
   "display_name": "Python 3",
   "language": "python",
   "name": "python3"
  },
  "language_info": {
   "codemirror_mode": {
    "name": "ipython",
    "version": 3
   },
   "file_extension": ".py",
   "mimetype": "text/x-python",
   "name": "python",
   "nbconvert_exporter": "python",
   "pygments_lexer": "ipython3",
   "version": "3.7.4"
  }
 },
 "nbformat": 4,
 "nbformat_minor": 2
}
